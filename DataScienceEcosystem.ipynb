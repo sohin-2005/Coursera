{
 "cells": [
  {
   "cell_type": "markdown",
   "id": "07aa9b46-a55f-468b-b180-5408d455acf5",
   "metadata": {},
   "source": [
    "## Data Science Tools and Ecosystem"
   ]
  },
  {
   "cell_type": "markdown",
   "id": "22154c84-54f2-432d-8c6c-6cf4ab267051",
   "metadata": {},
   "source": [
    "In this notebook, Data Science Tools and Ecosystem are summarized."
   ]
  },
  {
   "cell_type": "markdown",
   "id": "980dbb95-9dcd-4f4b-b740-2a8658be4e8b",
   "metadata": {},
   "source": [
    "**Objectives:**"
   ]
  },
  {
   "cell_type": "markdown",
   "id": "d0032e14-fb3f-43d4-b08b-86cb84ceaa7e",
   "metadata": {},
   "source": [
    "- List popular languages for Data Science.\n",
    "- Commonly used libraries used by Data Scientists.\n",
    "- Few examples of evaluating arithmetic expressions in Python.\n",
    "- Data science tools."
   ]
  },
  {
   "cell_type": "markdown",
   "id": "d4b08d03-de4f-4dd5-97c0-6cd77ab50050",
   "metadata": {},
   "source": [
    "Some of the popular languages that Data Scientists use are:\n"
   ]
  },
  {
   "cell_type": "markdown",
   "id": "a58f91a0-8858-45c5-8261-9f64cce2954f",
   "metadata": {},
   "source": [
    "1. Python\n",
    "2. Java\n",
    "3. C++"
   ]
  },
  {
   "cell_type": "markdown",
   "id": "2bfd7537-bcaa-43d1-9fcc-109deb5bb1e4",
   "metadata": {},
   "source": [
    "Some of the commonly used libraries used by Data Scientists include:"
   ]
  },
  {
   "cell_type": "markdown",
   "id": "4445759c-afbe-4a8e-8d2f-43749a1b42dd",
   "metadata": {},
   "source": [
    "1. ggplot2\n",
    "2. caret\n",
    "3. readr"
   ]
  },
  {
   "cell_type": "markdown",
   "id": "cb09b5e9-e5e1-4f7a-ac9e-cc41bfc7d758",
   "metadata": {},
   "source": [
    "| Data Science Tools |\n",
    "|--------------------|\n",
    "| Rstudio |\n",
    "| Jupyter Notebook |\n",
    "| Spyder |"
   ]
  },
  {
   "cell_type": "markdown",
   "id": "506a9992-9c4c-4ab6-b622-8572513009da",
   "metadata": {},
   "source": [
    "### Below are a few examples of evaluating arithmetic expressions in Python"
   ]
  },
  {
   "cell_type": "code",
   "execution_count": 7,
   "id": "fd0b8928-5cab-4a5a-bfd1-8b11cc6e3734",
   "metadata": {
    "tags": []
   },
   "outputs": [
    {
     "data": {
      "text/plain": [
       "17"
      ]
     },
     "execution_count": 7,
     "metadata": {},
     "output_type": "execute_result"
    }
   ],
   "source": [
    "#This a simple arithmetic expression to mutiply then add integers\n",
    "(3*4)+5"
   ]
  },
  {
   "cell_type": "code",
   "execution_count": 8,
   "id": "b376f6bf-b923-454a-affc-f6231ad1945a",
   "metadata": {
    "tags": []
   },
   "outputs": [
    {
     "data": {
      "text/plain": [
       "3.3333333333333335"
      ]
     },
     "execution_count": 8,
     "metadata": {},
     "output_type": "execute_result"
    }
   ],
   "source": [
    "#This will convert 200 minutes to hours by diving by 60\n",
    "200/60"
   ]
  },
  {
   "cell_type": "markdown",
   "id": "f1eb3a4b-8a16-43fa-af75-ecab730f2a38",
   "metadata": {},
   "source": [
    "## Author"
   ]
  },
  {
   "cell_type": "markdown",
   "id": "d69aeed4-a60e-4225-b7c4-c6a1fa0165da",
   "metadata": {},
   "source": [
    "Sohin Santhosh"
   ]
  },
  {
   "cell_type": "code",
   "execution_count": null,
   "id": "341576be-0e48-4c89-bd9a-8224450d6a10",
   "metadata": {},
   "outputs": [],
   "source": []
  }
 ],
 "metadata": {
  "kernelspec": {
   "display_name": "Python",
   "language": "python",
   "name": "conda-env-python-py"
  },
  "language_info": {
   "codemirror_mode": {
    "name": "ipython",
    "version": 3
   },
   "file_extension": ".py",
   "mimetype": "text/x-python",
   "name": "python",
   "nbconvert_exporter": "python",
   "pygments_lexer": "ipython3",
   "version": "3.7.12"
  }
 },
 "nbformat": 4,
 "nbformat_minor": 5
}
